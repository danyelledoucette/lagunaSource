{
 "cells": [
  {
   "cell_type": "code",
   "execution_count": null,
   "metadata": {},
   "outputs": [],
   "source": [
    "# Web Scraper"
   ]
  },
  {
   "cell_type": "code",
   "execution_count": null,
   "metadata": {},
   "outputs": [],
   "source": [
    "# Import dependencies"
   ]
  },
  {
   "cell_type": "code",
   "execution_count": null,
   "metadata": {},
   "outputs": [],
   "source": [
    "from selenium import webdriver\n",
    "from selenium.webdriver.common.keys import Keys\n",
    "from selenium.webdriver.common.by import By\n",
    "from selenium.webdriver.support.ui import WebDriverWait\n",
    "from selenium.webdriver.support import expected_conditions as EC\n",
    "from selenium import webdriver\n",
    "from bs4 import BeautifulSoup as bs\n",
    "import re as re\n",
    "import time\n",
    "import pandas as pd"
   ]
  },
  {
   "cell_type": "code",
   "execution_count": null,
   "metadata": {},
   "outputs": [],
   "source": [
    "# Enter Job Link Prior to Running Script\n",
    "job_link = \"https://www.linkedin.com/talent/hire/614331548\"\n",
    "a = job_link"
   ]
  },
  {
   "cell_type": "code",
   "execution_count": null,
   "metadata": {},
   "outputs": [],
   "source": [
    "path = input('Enter the Webdriver path: ')\n",
    "user = input('Enter the username: ')\n",
    "pswd = input('Enter the password: ')\n",
    "\n",
    "\n",
    "print(path)\n",
    "print(user)\n",
    "print(pswd)"
   ]
  },
  {
   "cell_type": "code",
   "execution_count": null,
   "metadata": {},
   "outputs": [],
   "source": [
    "pin = input('Enter phone verification pin: ')\n",
    "print(pin)"
   ]
  },
  {
   "cell_type": "code",
   "execution_count": null,
   "metadata": {},
   "outputs": [],
   "source": [
    "driver = webdriver.Chrome(path)"
   ]
  },
  {
   "cell_type": "code",
   "execution_count": null,
   "metadata": {},
   "outputs": [],
   "source": [
    "driver.get(\"https://www.linkedin.com/uas/login-cap?session_redirect=https://www.linkedin.com/talent/contract-chooser\")\n",
    "time.sleep(3)"
   ]
  },
  {
   "cell_type": "code",
   "execution_count": null,
   "metadata": {},
   "outputs": [],
   "source": [
    "email=driver.find_element_by_id(\"username\")\n",
    "email.send_keys(user)\n",
    "password=driver.find_element_by_id(\"password\")\n",
    "password.send_keys(pswd)\n",
    "time.sleep(3)\n",
    "password.send_keys(Keys.RETURN)"
   ]
  },
  {
   "cell_type": "code",
   "execution_count": null,
   "metadata": {},
   "outputs": [],
   "source": [
    "enter_pin=driver.find_element_by_id(\"input__phone_verification_pin\")\n",
    "enter_pin.send_keys(pin)\n",
    "time.sleep(3)\n",
    "enter_pin.send_keys(Keys.RETURN)"
   ]
  },
  {
   "cell_type": "code",
   "execution_count": null,
   "metadata": {},
   "outputs": [],
   "source": [
    "# Empty list and dictionary to hold scraped data\n",
    "job_dict = {}\n",
    "job_dict=[]\n",
    "\n",
    "# String to hold job numbers\n",
    "job_no = [\n",
    "    \"614331548\", \n",
    "    \"595853428\", \n",
    "    \"583841284\", \n",
    "    \"485384452\", \n",
    "    \"619830092\", \n",
    "    \"620814012\", \n",
    "    \"591554676\", \n",
    "    \"614861964\", \n",
    "    \"614255508\", \n",
    "    \"592481884\", \n",
    "    \"614065668\", \n",
    "    \"249903745\", \n",
    "    \"577699324\", \n",
    "    \"605886844\", \n",
    "    \"584634244\", \n",
    "    \"527235132\", \n",
    "    \"589028300\"\n",
    "]"
   ]
  },
  {
   "cell_type": "code",
   "execution_count": null,
   "metadata": {},
   "outputs": [],
   "source": [
    "# for x in job_no:\n",
    "#     print(\"https://www.linkedin.com/talent/hire/\" + x)"
   ]
  },
  {
   "cell_type": "code",
   "execution_count": null,
   "metadata": {},
   "outputs": [],
   "source": []
  },
  {
   "cell_type": "code",
   "execution_count": null,
   "metadata": {},
   "outputs": [],
   "source": [
    "# Creating for loop to cycle through jobs\n",
    "for x in job_no:\n",
    "    driver.get(\"https://www.linkedin.com/talent/hire/\" + x)\n",
    "    time.sleep(3)\n",
    "    \n",
    "    def Scrape_func(a):\n",
    "        job_link = a[0:-11]\n",
    "        time.sleep(10)\n",
    "\n",
    "        start=time.time()\n",
    "        lastHeight = driver.execute_script(\"return document.body.scrollHeight\")\n",
    "        while True:\n",
    "            driver.execute_script(\"window.scrollTo(0, document.body.scrollHeight);\")\n",
    "            time.sleep(5)\n",
    "            newHeight = driver.execute_script(\"return document.body.scrollHeight\")\n",
    "            if newHeight == lastHeight:\n",
    "                break\n",
    "            lastHeight = newHeight\n",
    "            end=time.time()\n",
    "            if round(end-start)>20:\n",
    "                break\n",
    "            \n",
    "    src = driver.page_source\n",
    "    \n",
    "    \n",
    "    # Now using beautiful soup\n",
    "    soup = bs(src, 'lxml')\n",
    "    \n",
    "    # Extracting the HTML of the complete panel body\n",
    "    # that contains profile count information\n",
    "    pipeline = soup.find('div', {'class': 'panel__body'})\n",
    "\n",
    "    # print(pipeline)\n",
    "    \n",
    "    # Extracting HTML of header to grab job title\n",
    "    header = soup.find('header', {'class': 'title-bar ember-view'})\n",
    "\n",
    "    # print(header)\n",
    "    \n",
    "    # Job name\n",
    "    job_name_loc = header.find_all(\"span\", {'class': 'project-lockup-title__item t-bold'})\n",
    "\n",
    "    # Active\n",
    "    active_loc = pipeline.find_all(\"span\", {'class': 'hiring-pipeline__profile-count'})\n",
    "\n",
    "    # Uncontacted\n",
    "    uncontacted_loc = pipeline.find_all(\"span\", {'class': 'hiring-pipeline__profile-count'})\n",
    "\n",
    "    # Extracting the HTML of the header section\n",
    "    # that contains the created date and creator\n",
    "    details = soup.find('div', {'class': 'project-lockup-meta t-12 t-white t-14'})\n",
    "\n",
    "    # print(details)\n",
    "\n",
    "    # Scrape project owner and created date\n",
    "    project_owner_loc = details.find_all(\"span\", {'class': 'project-lockup-meta__item'})\n",
    "    project_owner = project_owner_loc[1].get_text().strip()\n",
    "\n",
    "    created_date_loc = details.find_all(\"span\", {'class': 'project-lockup-meta__item'})\n",
    "    created_date = created_date_loc[2].get_text().strip()\n",
    "    \n",
    "    job_name = job_name_loc[0].get_text().strip()\n",
    "    active = active_loc[0].get_text().strip()\n",
    "    uncontacted = uncontacted_loc[2].get_text().strip()\n",
    "\n",
    "#     print(\"LinkedIn Job Name --> \", job_name)\n",
    "#     print(\"Link to job --> \", a)\n",
    "#     print(\"Active candidates --> \", active)\n",
    "#     print(\"Uncontacted candidates --> \", uncontacted)\n",
    "    \n",
    "    job = {\n",
    "        \"Created\" : created_date,\n",
    "        \"LinkedIn Job Name\" : job_name,\n",
    "        \"Link to job\" : \"https://www.linkedin.com/talent/hire/\" + x,\n",
    "        \"Project Owner\" : project_owner,\n",
    "        \"Active candidates\" : active,\n",
    "        \"Uncontacted candidates\" : uncontacted\n",
    "    }\n",
    "    \n",
    "#     job.append(job_dict)\n",
    "    job_dict.append(job)\n",
    "    \n",
    "    \n",
    "#     print(job)\n",
    "#     print(job_dict)"
   ]
  },
  {
   "cell_type": "code",
   "execution_count": null,
   "metadata": {},
   "outputs": [],
   "source": []
  },
  {
   "cell_type": "code",
   "execution_count": null,
   "metadata": {},
   "outputs": [],
   "source": [
    "df=pd.DataFrame(job_dict)\n",
    "df"
   ]
  },
  {
   "cell_type": "code",
   "execution_count": null,
   "metadata": {},
   "outputs": [],
   "source": [
    "from pathlib import Path  \n",
    "filepath = Path('lagunaSource/files/out.csv')  \n",
    "filepath.parent.mkdir(parents=True, exist_ok=True)  \n",
    "df.to_csv(filepath) "
   ]
  },
  {
   "cell_type": "code",
   "execution_count": null,
   "metadata": {},
   "outputs": [],
   "source": [
    "import os  \n",
    "os.makedirs('lagunaSource/files', exist_ok=True)  \n",
    "df.to_csv('lagunaSource/files/out.csv')  "
   ]
  },
  {
   "cell_type": "code",
   "execution_count": null,
   "metadata": {},
   "outputs": [],
   "source": [
    "# Write dataframe to Excel\n",
    "# df.to_excel(\"output.xlsx\",\n",
    "#              sheet_name='JobTracker')"
   ]
  },
  {
   "cell_type": "code",
   "execution_count": null,
   "metadata": {},
   "outputs": [],
   "source": []
  },
  {
   "cell_type": "code",
   "execution_count": null,
   "metadata": {},
   "outputs": [],
   "source": [
    "driver.close()"
   ]
  },
  {
   "cell_type": "code",
   "execution_count": null,
   "metadata": {},
   "outputs": [],
   "source": []
  }
 ],
 "metadata": {
  "kernelspec": {
   "display_name": "Python 3",
   "language": "python",
   "name": "python3"
  },
  "language_info": {
   "codemirror_mode": {
    "name": "ipython",
    "version": 3
   },
   "file_extension": ".py",
   "mimetype": "text/x-python",
   "name": "python",
   "nbconvert_exporter": "python",
   "pygments_lexer": "ipython3",
   "version": "3.8.5"
  }
 },
 "nbformat": 4,
 "nbformat_minor": 4
}
